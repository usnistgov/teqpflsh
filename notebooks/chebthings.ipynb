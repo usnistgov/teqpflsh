{
 "cells": [
  {
   "cell_type": "code",
   "execution_count": 4,
   "id": "6d0f4783",
   "metadata": {},
   "outputs": [
    {
     "name": "stdout",
     "output_type": "stream",
     "text": [
      "888 ns ± 2.16 ns per loop (mean ± std. dev. of 7 runs, 1,000,000 loops each)\n"
     ]
    },
    {
     "data": {
      "image/png": "[encoded data removed]",
      "text/plain": [
       "<Figure size 640x480 with 1 Axes>"
      ]
     },
     "metadata": {},
     "output_type": "display_data"
    }
   ],
   "source": [
    "import ChebTools\n",
    "import teqpflsh\n",
    "import timeit\n",
    "import numpy as np \n",
    "import matplotlib.pyplot as plt\n",
    "\n",
    "f = lambda x: np.exp(x)\n",
    "f = lambda x: x**2-0.5\n",
    "\n",
    "f = lambda x: np.cos(x)\n",
    "xmin, xmax = [-2, 2]\n",
    "\n",
    "# CTce = ChebTools.generate_Chebyshev_expansion(120, f, xmin, xmax)\n",
    "\n",
    "ces = ChebTools.dyadic_splitting(12, f, xmin, xmax, 3, 1e-12, 12)\n",
    "ces_ = [teqpflsh.ChebyshevExpansion(xmin=_.xmin(), xmax=_.xmax(), coeff=_.coef()) for _ in ces]\n",
    "# for _ in ces_:\n",
    "#     print(_.xmin, _.xmax)\n",
    "ca = teqpflsh.ChebyshevApproximation1D(expansions=ces_)\n",
    "# ca.x_at_extrema\n",
    "\n",
    "# for e in ca.expansions: print(e)\n",
    "# ca.get_intervals_containing_y(2), ca.x_at_extrema\n",
    "# ca.get_x_for_y(2, 64, 100), ca.x_at_extrema\n",
    "# print(len(ca.get_intervals_containing_y(0)))\n",
    "# for i in ca.monotonic_intervals:\n",
    "#     print({k: getattr(i,k) for k in dir(i) if not k.startswith('__')})\n",
    "# for i in ca.get_intervals_containing_y(0):\n",
    "#     print({k: getattr(i,k) for k in dir(i) if not k.startswith('__')})\n",
    "\n",
    "N = 10**3\n",
    "xbuf = np.linspace(xmin, xmax, N)\n",
    "ybuf = f(xbuf)\n",
    "plt.plot(xbuf, ybuf)\n",
    "for x in ca.x_at_extrema:\n",
    "    plt.axvline(x)\n",
    "\n",
    "%timeit ca.get_x_for_y(0.5, 64, 100)\n",
    "for xy in ca.get_x_for_y(0.5, 64, 100):\n",
    "    plt.plot(xy[0], 0.5, 'o')"
   ]
  },
  {
   "cell_type": "code",
   "execution_count": null,
   "id": "a3d52e37",
   "metadata": {},
   "outputs": [],
   "source": [
    "N = 10**6\n",
    "ybuf = np.random.random((N+1,))+0.3\n",
    "xbuf = np.zeros_like(ybuf)\n",
    "print(xbuf.shape, ybuf.shape)\n",
    "tic = timeit.default_timer()\n",
    "ca.count_x_for_y_many(ybuf, 64, 100, xbuf)\n",
    "toc = timeit.default_timer()\n",
    "print((toc-tic)/len(xbuf)*1e6, 'μs/call')\n",
    "plt.plot(xbuf, ybuf, 'o')"
   ]
  },
  {
   "cell_type": "code",
   "execution_count": null,
   "id": "6bc4219d",
   "metadata": {},
   "outputs": [],
   "source": [
    "import json\n",
    "j = json.load(open('WATER_exps.json'))\n",
    "ces_ = [teqpflsh.ChebyshevExpansion(xmin=e_[\"xmin\"], xmax=e_[\"xmax\"], coeff=np.array(e_[\"coef\"])) for e_ in j['jexpansions_rhoL']]\n",
    "ca = teqpflsh.ChebyshevApproximation1D(expansions=ces_)\n",
    "\n",
    "y_extremum = ca.eval(ca.x_at_extrema[0])\n",
    "for y in np.linspace(y_extremum, 0.99999*y_extremum):\n",
    "    for Tsoln in ca.get_x_for_y(y, 64, 100):\n",
    "        T, numsteps = Tsoln\n",
    "#         print(y, T, numsteps)\n",
    "        plt.plot(T, y*np.ones_like(T), 'o')\n",
    "    \n",
    "print(ca.get_x_for_y(55400, 64, 100))\n",
    "    \n",
    "T = np.linspace(273.16, 290, 100000)\n",
    "ybuf = np.zeros_like(T)\n",
    "tic = timeit.default_timer()\n",
    "ca.eval_many(T, ybuf)\n",
    "toc = timeit.default_timer()\n",
    "print((toc-tic)/len(T)*1e6, 'μs/call')\n",
    "plt.plot(T, ybuf)\n",
    "\n",
    "tic = timeit.default_timer()\n",
    "ybuf = np.linspace(55400, 55440, 1000000)\n",
    "xbuf = np.zeros_like(ybuf)\n",
    "ca.count_x_for_y_many(ybuf, 64, 100, xbuf)\n",
    "toc = timeit.default_timer()\n",
    "print((toc-tic)/len(xbuf)*1e6, 'μs/call')"
   ]
  },
  {
   "cell_type": "code",
   "execution_count": 2,
   "id": "558c1ea6",
   "metadata": {},
   "outputs": [
    {
     "ename": "NameError",
     "evalue": "name 'json' is not defined",
     "output_type": "error",
     "traceback": [
      "\u001b[0;31m---------------------------------------------------------------------------\u001b[0m",
      "\u001b[0;31mNameError\u001b[0m                                 Traceback (most recent call last)",
      "Cell \u001b[0;32mIn [2], line 1\u001b[0m\n\u001b[0;32m----> 1\u001b[0m j \u001b[38;5;241m=\u001b[39m \u001b[43mjson\u001b[49m\u001b[38;5;241m.\u001b[39mload(\u001b[38;5;28mopen\u001b[39m(\u001b[38;5;124m'\u001b[39m\u001b[38;5;124mWATER_exps.json\u001b[39m\u001b[38;5;124m'\u001b[39m))\n\u001b[1;32m      2\u001b[0m sa \u001b[38;5;241m=\u001b[39m teqpflsh\u001b[38;5;241m.\u001b[39mSuperAncillary(json\u001b[38;5;241m.\u001b[39mdumps(j))\n\u001b[1;32m      3\u001b[0m ca \u001b[38;5;241m=\u001b[39m sa\u001b[38;5;241m.\u001b[39mget_approx1d(k\u001b[38;5;241m=\u001b[39m\u001b[38;5;124m'\u001b[39m\u001b[38;5;124mD\u001b[39m\u001b[38;5;124m'\u001b[39m, Q\u001b[38;5;241m=\u001b[39m\u001b[38;5;241m0\u001b[39m)\n",
      "\u001b[0;31mNameError\u001b[0m: name 'json' is not defined"
     ]
    }
   ],
   "source": [
    "j = json.load(open('WATER_exps.json'))\n",
    "sa = teqpflsh.SuperAncillary(json.dumps(j))\n",
    "ca = sa.get_approx1d(k='D', Q=0)\n",
    "y = ca.eval(ca.x_at_extrema[0])*0.9999\n",
    "Tlims = [_[0] for _ in ca.get_x_for_y(y, 64, 100)]\n",
    "\n",
    "[sa.get_vaporquality(propval=y,k='D',T=T_) for T_ in np.linspace(*Tlims, 50)]\n",
    "ca = sa.get_approx1d(k='H', Q=0)"
   ]
  },
  {
   "cell_type": "code",
   "execution_count": 5,
   "id": "c413eb00",
   "metadata": {},
   "outputs": [
    {
     "name": "stdout",
     "output_type": "stream",
     "text": [
      "148 µs ± 753 ns per loop (mean ± std. dev. of 7 runs, 10,000 loops each)\n"
     ]
    }
   ],
   "source": [
    "%timeit ca.eval_many(xbuf, ybuf)"
   ]
  },
  {
   "cell_type": "code",
   "execution_count": 6,
   "id": "08c1336d",
   "metadata": {},
   "outputs": [
    {
     "name": "stdout",
     "output_type": "stream",
     "text": [
      "392 ms ± 2.59 ms per loop (mean ± std. dev. of 7 runs, 1 loop each)\n"
     ]
    }
   ],
   "source": [
    "%timeit ce.solve_for_x_many(ybuf, 0, 1, 64, 100, xbuf)"
   ]
  },
  {
   "cell_type": "code",
   "execution_count": 7,
   "id": "909b4d60",
   "metadata": {},
   "outputs": [
    {
     "data": {
      "text/plain": [
       "[<matplotlib.lines.Line2D at 0x10cc66cb0>]"
      ]
     },
     "execution_count": 7,
     "metadata": {},
     "output_type": "execute_result"
    },
    {
     "data": {
      "image/png": "[encoded data removed]",
      "text/plain": [
       "<Figure size 640x480 with 1 Axes>"
      ]
     },
     "metadata": {},
     "output_type": "display_data"
    }
   ],
   "source": [
    "plt.plot(xbuf, ybuf, '.')"
   ]
  },
  {
   "cell_type": "code",
   "execution_count": 8,
   "id": "fad9b102",
   "metadata": {},
   "outputs": [
    {
     "name": "stdout",
     "output_type": "stream",
     "text": [
      "(0.0, 0.0) [0. 0.] 2\n",
      "(0.03446613582268787, 0.03446613582268787) [0. 0.] 8\n",
      "(0.06778382959347343, 0.06778382959347343) [0. 0.] 8\n",
      "(0.100027153980817, 0.100027153980817) [0. 0.] 8\n",
      "(0.13126323862540326, 0.13126323862540326) [0. 0.] 8\n",
      "(0.16155311163257136, 0.16155311163257136) [0. 0.] 8\n",
      "(0.19095241731932389, 0.19095241731932389) [0. 0.] 8\n",
      "(0.21951203143028214, 0.21951203143028214) [0. 0.] 8\n",
      "(0.24727859091150584, 0.24727859091150584) [0. 0.] 8\n",
      "(0.2742949520977852, 0.2742949520977852) [0. 0.] 8\n",
      "(0.3006005886164997, 0.3006005886164997) [0. 0.] 8\n",
      "(0.3262319382822653, 0.3262319382822653) [0. 0.] 8\n",
      "(0.3512227066335552, 0.3512227066335552) [0. 0.] 8\n",
      "(0.3756041334561368, 0.3756041334561368) [0. 0.] 8\n",
      "(0.3994052275806915, 0.3994052275806915) [0. 0.] 8\n",
      "(0.42265297438124005, 0.42265297438124005) [0. 0.] 8\n",
      "(0.4453725196967728, 0.4453725196967728) [0. 0.] 8\n",
      "(0.46758733331945074, 0.46758733331945074) [0. 0.] 8\n",
      "(0.4893193547144178, 0.4893193547144178) [0. 0.] 8\n",
      "(0.5105891232393562, 0.5105891232393562) [0. 0.] 8\n",
      "(0.53141589480116, 0.53141589480116) [0. 0.] 8\n",
      "(0.5518177466103487, 0.5518177466103489) [-2.22044605e-16  2.22044605e-16] 9\n",
      "(0.5718116714613638, 0.5718116714613638) [0. 0.] 8\n",
      "(0.5914136627708833, 0.5914136627708835) [-2.22044605e-16  2.22044605e-16] 9\n",
      "(0.6106387914404382, 0.6106387914404384) [-2.22044605e-16  2.22044605e-16] 9\n",
      "(0.6295012754687895, 0.6295012754687895) [0. 0.] 8\n",
      "(0.6480145431195653, 0.6480145431195653) [0. 0.] 8\n",
      "(0.6661912903471534, 0.6661912903471534) [0. 0.] 8\n",
      "(0.6840435330959674, 0.6840435330959674) [0. 0.] 8\n",
      "(0.7015826550126761, 0.7015826550126761) [0. 0.] 8\n",
      "(0.7188194510458679, 0.7188194510458679) [0. 0.] 8\n",
      "(0.7357641673513245, 0.7357641673513245) [0. 0.] 8\n",
      "(0.7524265378723154, 0.7524265378723154) [0. 0.] 8\n",
      "(0.7688158179219063, 0.7688158179219063) [0. 0.] 8\n",
      "(0.7849408150573955, 0.7849408150573955) [0. 0.] 8\n",
      "(0.8008099175047236, 0.8008099175047236) [0. 0.] 8\n",
      "(0.8164311203625362, 0.8164311203625362) [0. 0.] 8\n",
      "(0.8318120497908186, 0.8318120497908186) [0. 0.] 8\n",
      "(0.8469599853673107, 0.8469599853673107) [0. 0.] 8\n",
      "(0.8618818807757583, 0.8618818807757583) [0. 0.] 8\n",
      "(0.8765843829731756, 0.8765843829731761) [-8.8817842e-16  4.4408921e-16] 9\n",
      "(0.891073849968365, 0.891073849968365) [0. 0.] 8\n",
      "(0.9053563673307099, 0.9053563673307099) [0. 0.] 8\n",
      "(0.9194377635365398, 0.9194377635365398) [0. 0.] 8\n",
      "(0.933323624249911, 0.933323624249911) [0. 0.] 8\n",
      "(0.9470193056253893, 0.9470193056253893) [0. 0.] 8\n",
      "(0.9605299467121099, 0.9605299467121099) [0. 0.] 8\n",
      "(0.9738604810310146, 0.9738604810310151) [-4.4408921e-16  8.8817842e-16] 7\n",
      "(0.9870156473905257, 0.9870156473905262) [-8.8817842e-16  4.4408921e-16] 7\n",
      "(1.0, 1.0) [0. 0.] 2\n"
     ]
    }
   ],
   "source": [
    "for y in np.linspace(1, np.exp(1)):\n",
    "    f = lambda x: np.exp(x)-y\n",
    "    interval, N = teqpflsh.toms748_solve(f, 0.0, 1.0, 64, 10)\n",
    "    print(interval, f(interval), N)"
   ]
  },
  {
   "cell_type": "code",
   "execution_count": 10,
   "id": "5edd0666",
   "metadata": {},
   "outputs": [
    {
     "name": "stdout",
     "output_type": "stream",
     "text": [
      "<teqpflsh._teqpflsh_impl.ChebyshevExpansion object at 0x105403450>\n"
     ]
    },
    {
     "data": {
      "text/plain": [
       "[]"
      ]
     },
     "execution_count": 10,
     "metadata": {},
     "output_type": "execute_result"
    }
   ],
   "source": [
    "ca = teqpflsh.ChebyshevApproximation(expansions=[ce])\n",
    "for e in ca.expansions:\n",
    "    print(e)\n",
    "ca.get_intervals_containing_y(2)"
   ]
  },
  {
   "cell_type": "code",
   "execution_count": null,
   "id": "598385ee",
   "metadata": {},
   "outputs": [],
   "source": []
  }
 ],
 "metadata": {
  "kernelspec": {
   "display_name": "Python 3 (ipykernel)",
   "language": "python",
   "name": "python3"
  },
  "language_info": {
   "codemirror_mode": {
    "name": "ipython",
    "version": 3
   },
   "file_extension": ".py",
   "mimetype": "text/x-python",
   "name": "python",
   "nbconvert_exporter": "python",
   "pygments_lexer": "ipython3",
   "version": "3.10.6"
  }
 },
 "nbformat": 4,
 "nbformat_minor": 5
}
