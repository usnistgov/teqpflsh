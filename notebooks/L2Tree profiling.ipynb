{
 "cells": [
  {
   "cell_type": "code",
   "execution_count": 17,
   "id": "0c10a3d9",
   "metadata": {},
   "outputs": [],
   "source": [
    "import teqpflsh\n",
    "import numpy as np\n",
    "\n",
    "x = np.random.random((1000000,))\n",
    "y = np.random.random((1000000,))\n",
    "depth = 10\n",
    "treeholder = teqpflsh.L2TreeHolder(x, y, depth)\n",
    "tree = treeholder.tree\n",
    "\n",
    "x1 = np.random.random((1000000,))\n",
    "y1 = np.random.random((1000000,))\n",
    "idxbuf = np.zeros_like(x1, dtype=int)\n",
    "d2buf = np.zeros_like(x1)\n",
    "del tree\n",
    "del treeholder"
   ]
  },
  {
   "cell_type": "code",
   "execution_count": 6,
   "id": "f694c600",
   "metadata": {},
   "outputs": [
    {
     "name": "stdout",
     "output_type": "stream",
     "text": [
      "533 ms ± 5.96 ms per loop (mean ± std. dev. of 7 runs, 1 loop each)\n"
     ]
    }
   ],
   "source": [
    "%timeit tree.get_nearest_indexd2_many(x1, y1, idxbuf, d2buf)"
   ]
  }
 ],
 "metadata": {
  "kernelspec": {
   "display_name": "Python 3 (ipykernel)",
   "language": "python",
   "name": "python3"
  },
  "language_info": {
   "codemirror_mode": {
    "name": "ipython",
    "version": 3
   },
   "file_extension": ".py",
   "mimetype": "text/x-python",
   "name": "python",
   "nbconvert_exporter": "python",
   "pygments_lexer": "ipython3",
   "version": "3.10.6"
  }
 },
 "nbformat": 4,
 "nbformat_minor": 5
}
