{
 "cells": [
  {
   "cell_type": "markdown",
   "id": "b3d34331-5842-4e5b-9b78-d985fcf67860",
   "metadata": {},
   "source": [
    "# Regioned Flasher\n",
    "\n",
    "The regioned flasher breaks up the temperature-density plane into multiple region. In each region, a K-D tree is constructed for points distributed within the region in T-D coordinates (because they are the coordinates of the EOS and require no iteration to obtain them). Thus distributing the points cannot fail (like iterative calculations in P-H coordinates might). To start, lets begin with a rectangular region in the supercritical region as a demonstration. The real regions are much more complex as they need to handle the complete fluid domain, deal with solid-liquid phase equilibria, etc.."
   ]
  },
  {
   "cell_type": "code",
   "execution_count": null,
   "id": "8a1f9562-40f5-4ffb-a0d4-d9478d3ad12d",
   "metadata": {},
   "outputs": [],
   "source": [
    "import timeit, json\n",
    "\n",
    "import teqpflsh, teqp \n",
    "\n",
    "import numpy as np\n",
    "import matplotlib.pyplot as plt"
   ]
  },
  {
   "cell_type": "code",
   "execution_count": null,
   "id": "dc129d47-71e5-4025-a813-20248654879f",
   "metadata": {},
   "outputs": [],
   "source": [
    "name = \"n-Propane\"\n",
    "\n",
    "path = f'{teqp.get_datapath()}/dev/fluids/{name}.json'\n",
    "jresid = {\"kind\": \"multifluid\", \"model\": {\"components\": [name], \"root\": teqp.get_datapath()}}\n",
    "jidealgas = {\"kind\": \"IdealHelmholtz\", \"model\": [teqp.convert_CoolProp_idealgas(path, 0)]}\n",
    "\n",
    "rf = teqpflsh.RegionedFlasher(\n",
    "    ideal_gas=json.dumps(jidealgas), \n",
    "    resid=json.dumps(jresid), \n",
    "    mole_fractions=np.array([1.0])\n",
    ")\n",
    "# To start off there are no regions in the regioned flasher\n",
    "print('# of regions:', len(rf.get_regions_rw()))\n",
    "\n",
    "# Now we make a region with rectangular shape in T, rho coordinates\n",
    "# As we will see, a rectangular shape with only the corners defined doesn't work so well when transformed into \n",
    "# other coordinates\n",
    "Tmin = 400 # K\n",
    "Tmax = 450 # K\n",
    "rhomin = 1e-6 # mol/m³\n",
    "rhomax = 6000 # mol/m³\n",
    "Tpoly = np.array([Tmin, Tmin, Tmax, Tmax, Tmin])\n",
    "rhopoly = np.array([rhomin, rhomax, rhomax, rhomin, rhomin])\n",
    "NT = 1000\n",
    "Nrho = 1000\n",
    "\n",
    "rf.add_region(T=Tpoly, rho=rhopoly, NT=NT, Nrho=Nrho)\n",
    "print('# of regions:', len(rf.get_regions_ro()))"
   ]
  },
  {
   "cell_type": "code",
   "execution_count": null,
   "id": "cdf82ace-ed39-4d0b-824c-1479fb9cd72e",
   "metadata": {},
   "outputs": [],
   "source": [
    "# Here is the bounding region and the points used for construction of the K-D tree\n",
    "# This all looks nice\n",
    "for reg in rf.get_regions_rw():\n",
    "    reg.add_pair(proppair=teqpflsh.PropertyPairs.DT, Nsplit=5)\n",
    "    \n",
    "    pset = reg.propset_bounding\n",
    "    plt.plot(pset.rho, pset.T, 'o-')\n",
    "\n",
    "    pset = reg.propset_Trhogrid\n",
    "    plt.plot(pset.rho, pset.T, '.')\n",
    "plt.gca().set(xlabel=r'$\\rho$ / mol/m$^3$', ylabel='$T$ / K');"
   ]
  },
  {
   "cell_type": "markdown",
   "id": "673b70e9-dde8-4710-a560-73fa14ca07bc",
   "metadata": {},
   "source": [
    "But when you shift to another variable pair, here density and entropy, the rectangular box and its sampled (in $T$, $\\rho$) points do not all map together"
   ]
  },
  {
   "cell_type": "code",
   "execution_count": null,
   "id": "dc9f7ae0-dace-420e-9826-b5d9b8c6d458",
   "metadata": {},
   "outputs": [],
   "source": [
    "for reg in rf.get_regions_rw():\n",
    "    reg.add_pair(proppair=teqpflsh.PropertyPairs.DS, Nsplit=5)\n",
    "    \n",
    "    pset = reg.propset_bounding\n",
    "    plt.plot(pset.rho, pset.s, 'o-')\n",
    "\n",
    "    pset = reg.propset_Trhogrid\n",
    "    plt.plot(pset.rho, pset.s, '.')\n",
    "plt.gca().set(xlabel=r'$\\rho$ / mol/m$^3$', ylabel='$s$ / J/mol/K');"
   ]
  },
  {
   "cell_type": "markdown",
   "id": "d124dc3c-7f1c-49c8-9ab5-d5cc90d065f7",
   "metadata": {},
   "source": [
    "In order to get around this problem, the box needs to be sampled at more than 5 points\n",
    "\n",
    "Exercise for reader: build a more dense polygon defining the boundary of the box, with many more points along each side"
   ]
  },
  {
   "cell_type": "markdown",
   "id": "cb086490-211a-4019-80c5-16305059ba94",
   "metadata": {},
   "source": [
    "To better understand the timing of each step, it can be useful to profile each step independently. The ``_many`` methods has been written for this purpose. The overhead in nanobind with pre-allocated buffers being passed to the function is functionally zero."
   ]
  },
  {
   "cell_type": "code",
   "execution_count": null,
   "id": "5fff9393-b345-4b60-a3d9-a8443c4bba68",
   "metadata": {},
   "outputs": [],
   "source": [
    "N = 500000\n",
    "\n",
    "for reg in rf.get_regions_rw():\n",
    "    reg.add_pair(proppair=teqpflsh.PropertyPairs.DP, Nsplit=5)\n",
    "    \n",
    "    tree = reg.get_kdtree(teqpflsh.PropertyPairs.DP)    \n",
    "    X = np.linspace(2000, 2001, N)\n",
    "    Y = np.linspace(0.25e7, 0.251e7, N)\n",
    "    idx = np.zeros_like(X, dtype=int)\n",
    "    d2 = np.zeros_like(Y)\n",
    "    tic = timeit.default_timer()\n",
    "    tree.get_nearest_indexd2_many(X, Y, idx, d2)\n",
    "    toc = timeit.default_timer()\n",
    "    print((toc-tic)/N*1e6, 'μs to look up a point from the K-D tree')\n",
    "    print(f'The K-D tree consumes', tree.get_used_bytes()/1024**2, \"MiB\")\n",
    "\n",
    "    TT = np.zeros_like(X)\n",
    "    DD = np.zeros_like(X)\n",
    "    tic = timeit.default_timer()\n",
    "    reg.get_starting_Trho_many(teqpflsh.PropertyPairs.DP, X, Y, TT, DD, d2)\n",
    "    toc = timeit.default_timer()\n",
    "    print((toc-tic)/N*1e6, 'μs to look up a point from the K-D tree and return the (T, rho) point and its '\n",
    "          'distance. This should be a smidge slower than the above calculation')"
   ]
  },
  {
   "cell_type": "markdown",
   "id": "5b5502e6-4283-4a21-9d8a-ba76e0cdfabe",
   "metadata": {},
   "source": [
    "Putting it all together, here is an example of using the entire flash calculation. The steps are:\n",
    "1. Find the nearest point in the K-D tree to get a starting value for $T$ and $\\rho$ for further iteration\n",
    "2. Do the iteration to find the right $T$, $\\rho$ satisfying the problem statement (trivial in this case because $T$, $\\rho$ are input variables)"
   ]
  },
  {
   "cell_type": "code",
   "execution_count": null,
   "id": "741a2939-dd1e-4e25-89d4-813dcb3ae040",
   "metadata": {},
   "outputs": [],
   "source": [
    "for reg in rf.get_regions_rw():\n",
    "    reg.add_pair(proppair=teqpflsh.PropertyPairs.DT, Nsplit=5)\n",
    "N = 50000\n",
    "X = np.linspace(2000, 2001, N)\n",
    "Y = np.linspace(250, 251, N)\n",
    "TT = np.zeros_like(X)\n",
    "DD = np.zeros_like(X)\n",
    "steps = np.zeros_like(X, dtype=int)\n",
    "maxabsr = np.zeros_like(Y)\n",
    "newtontime = np.zeros_like(Y)\n",
    "candtime = np.zeros_like(Y)\n",
    "tic = timeit.default_timer()\n",
    "rf.flash_many(teqpflsh.PropertyPairs.DT, X, Y, TT, DD, steps, maxabsr, newtontime, candtime)\n",
    "toc = timeit.default_timer()\n",
    "print((toc-tic)/N*1e6, np.mean(newtontime), np.mean(candtime), np.mean(steps))"
   ]
  },
  {
   "cell_type": "markdown",
   "id": "dec3beab-33e6-4157-a989-983b260e8e60",
   "metadata": {},
   "source": [
    "The timing is carried out at a fairly granular level. The ``candtime`` argument is the time required (in μs) to do preparation of the candidates from the K-D tree values. The ``newtontime`` is the time spent (in μs) preparing the iteration object and actually doing the iteration. In this case the inputs do not require any iteration, but the newton iterator is still constructed."
   ]
  },
  {
   "cell_type": "code",
   "execution_count": null,
   "id": "89a67529-6345-4ed4-a4df-39e7373fe7b6",
   "metadata": {},
   "outputs": [],
   "source": [
    "# Here we iterate for two variables, it is much slower\n",
    "for reg in rf.get_regions_rw():\n",
    "    reg.add_pair(proppair=teqpflsh.PropertyPairs.PS, Nsplit=5)\n",
    "    \n",
    "# Take the points in the K-D tree to do calculations\n",
    "# They trivially satisfy the stopping conditions!\n",
    "propset = reg.propset_Trhogrid\n",
    "X = propset.p\n",
    "Y = propset.s\n",
    "o = rf.flash(teqpflsh.PropertyPairs.PS, X[0], Y[0])\n",
    "print(o.T, o.rho, o.candidate_duration_us, o.total_duration_us, o.newton_duration_us, o.step_count)"
   ]
  },
  {
   "cell_type": "code",
   "execution_count": null,
   "id": "3040cf17-0640-4549-b378-784d2dcb22c8",
   "metadata": {},
   "outputs": [],
   "source": [
    "# Now p, s inputs but with a bit of noise in entropy to force the \n",
    "# Newton iterator to actually do something\n",
    "\n",
    "# Input variables\n",
    "X = propset.p\n",
    "Y = propset.s + np.random.random(X.shape)\n",
    "\n",
    "# Output buffers\n",
    "TT = np.zeros_like(X)\n",
    "DD = np.zeros_like(X)\n",
    "steps = np.zeros_like(X)\n",
    "maxabsr = np.zeros_like(Y)\n",
    "newtontime = np.zeros_like(Y)\n",
    "candtime = np.zeros_like(Y)\n",
    "tic = timeit.default_timer()\n",
    "\n",
    "rf.flash_many(teqpflsh.PropertyPairs.PS, X, Y, TT, DD, steps, maxabsr, newtontime, candtime)\n",
    "toc = timeit.default_timer()\n",
    "print((toc-tic)/len(X)*1e6, np.mean(newtontime), np.mean(candtime), np.mean(steps), np.mean(maxabsr), np.sum(TT<0))"
   ]
  },
  {
   "cell_type": "markdown",
   "id": "a6ff2bd2-e001-45ca-b15d-289c0980e9b2",
   "metadata": {},
   "source": [
    "Ok, that's good. Iteration was carried out, and the deviations between the specified and iterated entropy and pressure were good. It took approximately 1.1 μs per iteration step of the Newton iterator, which isn't too bad, but we did start not too far from the actual solution."
   ]
  }
 ],
 "metadata": {
  "kernelspec": {
   "display_name": "Python 3 (ipykernel)",
   "language": "python",
   "name": "python3"
  },
  "language_info": {
   "codemirror_mode": {
    "name": "ipython",
    "version": 3
   },
   "file_extension": ".py",
   "mimetype": "text/x-python",
   "name": "python",
   "nbconvert_exporter": "python",
   "pygments_lexer": "ipython3",
   "version": "3.12.8"
  }
 },
 "nbformat": 4,
 "nbformat_minor": 5
}
