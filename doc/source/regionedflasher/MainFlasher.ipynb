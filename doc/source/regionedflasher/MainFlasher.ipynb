{
 "cells": [
  {
   "cell_type": "markdown",
   "id": "195dfb1f-429b-4672-bbfe-53e6c77926c6",
   "metadata": {},
   "source": [
    "# Complete Example\n",
    "\n",
    "The subcomponents are all joined together into the main flasher class, which combines the superancillary to first check the phase, followed by "
   ]
  },
  {
   "cell_type": "code",
   "execution_count": null,
   "id": "09dd9f4c-c7fd-4dbf-8492-abf5cbf08044",
   "metadata": {},
   "outputs": [],
   "source": [
    "import timeit, json, functools\n",
    "\n",
    "import teqpflsh, teqp \n",
    "import CoolProp\n",
    "\n",
    "import numpy as np\n",
    "import matplotlib.pyplot as plt"
   ]
  },
  {
   "cell_type": "code",
   "execution_count": null,
   "id": "1aeec3d9-8574-47f1-9a58-d116c82d2e4f",
   "metadata": {},
   "outputs": [],
   "source": [
    "name = \"n-Propane\"\n",
    "\n",
    "j = json.load(open('PROPANE_exps.json'))\n",
    "sa = teqpflsh.SuperAncillary(json.dumps(j))\n",
    "import CoolProp.CoolProp as CP\n",
    "AS = CP.AbstractState('HEOS', 'n-Propane')\n",
    "def calc(T, rho, AS, key):\n",
    "    AS.specify_phase(CP.iphase_gas)\n",
    "    AS.update(CP.DmolarT_INPUTS, rho, T)\n",
    "    val = AS.keyed_output(key)\n",
    "    AS.unspecify_phase()\n",
    "    return val\n",
    "sa.add_variable(k='H', caller=functools.partial(calc, AS=AS, key=CP.iHmolar))\n",
    "sa.add_variable(k='S', caller=functools.partial(calc, AS=AS, key=CP.iSmolar))\n",
    "sa.add_variable(k='U', caller=functools.partial(calc, AS=AS, key=CP.iUmolar))\n",
    "\n",
    "path = f'{teqp.get_datapath()}/dev/fluids/{name}.json'\n",
    "jresid = {\"kind\": \"multifluid\", \"model\": {\"components\": [name], \"root\": teqp.get_datapath()}}\n",
    "jidealgas = {\"kind\": \"IdealHelmholtz\", \"model\": [teqp.convert_CoolProp_idealgas(path, 0)]}\n",
    "rf = teqpflsh.RegionedFlasher(\n",
    "    ideal_gas=json.dumps(jidealgas), \n",
    "    resid=json.dumps(jresid), \n",
    "    mole_fractions=np.array([1.0])\n",
    ")\n",
    "\n",
    "# Now we make a region with rectangular shape in T, rho coordinates with only its 5 corners\n",
    "Tmin = 400 # K\n",
    "Tmax = 450 # K\n",
    "rhomin = 1e-6 # mol/m³\n",
    "rhomax = 6000 # mol/m³\n",
    "Tpoly = np.array([Tmin, Tmin, Tmax, Tmax, Tmin])\n",
    "rhopoly = np.array([rhomin, rhomax, rhomax, rhomin, rhomin])\n",
    "NT = 1000\n",
    "Nrho = 1000\n",
    "rf.add_region(Tpoly, rhopoly, NT=NT, Nrho=Nrho)\n",
    "for reg in rf.get_regions_rw():\n",
    "    reg.add_pair(proppair=teqpflsh.PropertyPairs.PS, Nsplit=5)\n",
    "\n",
    "# Build the helper class holding the models for ideal gas and residual Helmholtz energy\n",
    "helm = teqpflsh.teqpHelmholtzInterface(ideal_gas=json.dumps(jidealgas), residual=json.dumps(jresid))\n",
    "\n",
    "# Build the main flasher which includes all the parts\n",
    "mf = teqpflsh.MainFlasher(regions=rf, superancillary=sa, helm=helm)"
   ]
  },
  {
   "cell_type": "code",
   "execution_count": null,
   "id": "77b589c2-ae22-49f3-8eac-36025f4e57d8",
   "metadata": {},
   "outputs": [],
   "source": [
    "reg = mf.regioned_flasher.get_regions_ro()[0]\n",
    "propset = reg.propset_Trhogrid\n",
    "val1 = propset.p\n",
    "val2 = propset.s + np.random.random(val1.shape)\n",
    "T = np.zeros_like(val1)\n",
    "rho = np.zeros_like(val1)\n",
    "q = np.zeros_like(val1)\n",
    "\n",
    "%timeit mf.flash_many(teqpflsh.PropertyPairs.PS, val1, val2, T, rho, q)"
   ]
  }
 ],
 "metadata": {
  "kernelspec": {
   "display_name": "Python 3 (ipykernel)",
   "language": "python",
   "name": "python3"
  },
  "language_info": {
   "codemirror_mode": {
    "name": "ipython",
    "version": 3
   },
   "file_extension": ".py",
   "mimetype": "text/x-python",
   "name": "python",
   "nbconvert_exporter": "python",
   "pygments_lexer": "ipython3",
   "version": "3.12.3"
  }
 },
 "nbformat": 4,
 "nbformat_minor": 5
}
