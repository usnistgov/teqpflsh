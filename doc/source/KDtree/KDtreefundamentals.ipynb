{
 "cells": [
  {
   "cell_type": "markdown",
   "id": "828d581c-2c0b-4950-a1dd-0cf96f55f648",
   "metadata": {},
   "source": [
    "# K-D tree fundamentals\n",
    "\n",
    "TODO: what is a K-D tree\n",
    "\n",
    "The [nanoflann](https://github.com/jlblancoc/nanoflann) library is used within teqpflsh due to its computational efficiency."
   ]
  },
  {
   "cell_type": "raw",
   "id": "a4329548-602c-4174-b3f6-bb7cb4373e5a",
   "metadata": {
    "editable": true,
    "raw_mimetype": "text/restructuredtext",
    "slideshow": {
     "slide_type": ""
    },
    "tags": []
   },
   "source": [
    "The :py:class:`L2TreeHolder <teqpflsh._teqpflsh_impl.L2TreeHolder>` class makes a copy of the data for the tree to ensure that the lifetime of the data copied into the holder is longer than the tree itself. The underlying :py:class:`L2Tree <teqpflsh._teqpflsh_impl.L2Tree>` object obtained via the ``.tree`` attribute then makes a reference to the data held in the holder class. "
   ]
  },
  {
   "cell_type": "code",
   "execution_count": null,
   "id": "53459aa8",
   "metadata": {},
   "outputs": [],
   "source": [
    "import numpy as np\n",
    "import teqpflsh\n",
    "import matplotlib.pyplot as plt\n",
    "\n",
    "def boxpoly(*, top, bottom, left, right, ptr):\n",
    "    X = np.array([left, right, right, left, left])\n",
    "    Y = np.array([bottom, bottom, top, top, bottom])\n",
    "    return ptr.makeclosedpolygon(X, Y)"
   ]
  },
  {
   "cell_type": "code",
   "execution_count": null,
   "id": "19ebf7aa-32b1-48a2-af0e-468ec2f0d83c",
   "metadata": {},
   "outputs": [],
   "source": [
    "ptr = teqpflsh.GeometryFactoryHolder()\n",
    "\n",
    "# Polygon for the shifted circle\n",
    "t = np.linspace(0, 2*np.pi, 10000)\n",
    "X = 0.5 + 0.3*np.cos(t)\n",
    "Y = 0.3*np.sin(t)\n",
    "poly1 = ptr.makeclosedpolygon(X, Y)\n",
    "poly2 = boxpoly(left=0, right=1, bottom=0, top=1, ptr=ptr)\n",
    "\n",
    "# Polygon for the square [0,1]x[0,1] minus small circle\n",
    "poly = poly2.difference(poly1)\n",
    "X, Y = poly.getXY()\n",
    "\n",
    "def do_one(*, NKD, Nsample, plot=False, close=True):\n",
    "    def get_random(NKD):\n",
    "        \"\"\" Random points for the tree \"\"\"\n",
    "        XX, YY = [], []\n",
    "        while len(XX) < NKD:\n",
    "            x_, y_ = np.random.random(2)\n",
    "            pt = ptr.createPoint(float(x_), float(y_))\n",
    "            if poly.containsPoint(pt):\n",
    "                XX.append(x_)\n",
    "                YY.append(y_)\n",
    "        return XX, YY\n",
    "    XX, YY = get_random(NKD)\n",
    "    \n",
    "    if plot:\n",
    "        plt.plot(X, Y, 'k')\n",
    "        plt.plot(XX, YY, '.', ms=5)\n",
    "\n",
    "    holder = teqpflsh.L2TreeHolder(np.array(XX), np.array(YY), 10)\n",
    "    tree = holder.tree\n",
    "\n",
    "    xsample, ysample = get_random(Nsample)\n",
    "    d2 = [tree.get_nearest_indexd2(x_, y_)[1] for x_, y_ in zip(xsample, ysample)]\n",
    "    \n",
    "    if plot:\n",
    "        plt.axis('off')\n",
    "        plt.axis('equal');\n",
    "        if close:\n",
    "            plt.close()\n",
    "    \n",
    "    return np.mean(np.array(d2)**0.5), tree.get_used_bytes()"
   ]
  },
  {
   "cell_type": "markdown",
   "id": "ec39b27b-1ab0-43f0-9865-736e54b21e09",
   "metadata": {},
   "source": [
    "Here is a small number of \"lighthouse\" points randomly distributed in the domain. A random point is first pulled from [0,1]x[0,1] and checked whether it is within the domain or not. This so-called point-in-polygon problem is quite slow (relatively)."
   ]
  },
  {
   "cell_type": "code",
   "execution_count": null,
   "id": "f37f0986-2884-419d-bc03-944bc1eae624",
   "metadata": {},
   "outputs": [],
   "source": [
    "do_one(NKD=100, Nsample=100, plot=True, close=False);"
   ]
  },
  {
   "attachments": {},
   "cell_type": "markdown",
   "id": "799a54e4-dc2d-4551-a040-9ea475124465",
   "metadata": {},
   "source": [
    "As you increase the number of points $N$ inside the domain, the distance to the nearest point goes down like $N^{-1/2}$ and in general the scaling should be like $N^{-1/D}$ where $D$ is the number of spatial dimensions (I think). \n",
    "\n",
    "The required memory is linear with the number of points in the K-D tree(!)"
   ]
  },
  {
   "cell_type": "code",
   "execution_count": null,
   "id": "eafaec7f-87e7-4a6c-ac95-f908a4c42527",
   "metadata": {},
   "outputs": [],
   "source": [
    "Ntrees = np.geomspace(10, 10**4, dtype=int)\n",
    "\n",
    "fig, (ax1, ax2) = plt.subplots(2, 1, sharex=True)\n",
    "\n",
    "d2s = [do_one(NKD=NKD_, Nsample=10**3)[0] for NKD_ in Ntrees]\n",
    "ax1.plot(Ntrees, d2s, 'o')\n",
    "\n",
    "pf = np.polyfit(np.log(Ntrees), np.log(d2s), 1)\n",
    "xx = np.geomspace(np.min(Ntrees), np.max(Ntrees), 1000)\n",
    "ax1.plot(xx, np.exp(np.polyval(pf, np.log(xx))), dashes=[2,2], color='r')\n",
    "ax1.text(100, 0.07, rf'$y=\\exp({pf[1]:0.3f})N^{{{pf[0]:0.3f}}}$', color='r')\n",
    "    \n",
    "ax1.set_xscale('log')\n",
    "ax1.set_yscale('log')\n",
    "ax1.set(ylabel=r'$d_{NN}$')\n",
    "\n",
    "MiBs = [do_one(NKD=NKD_, Nsample=10**3)[1]/1024**2 for NKD_ in Ntrees]\n",
    "ax2.plot(Ntrees, MiBs, 'o')\n",
    "ax2.set(xlabel=r'$N_{\\rm points}$', ylabel='MiB required');\n",
    "\n",
    "# del ptr"
   ]
  }
 ],
 "metadata": {
  "kernelspec": {
   "display_name": "Python 3 (ipykernel)",
   "language": "python",
   "name": "python3"
  },
  "language_info": {
   "codemirror_mode": {
    "name": "ipython",
    "version": 3
   },
   "file_extension": ".py",
   "mimetype": "text/x-python",
   "name": "python",
   "nbconvert_exporter": "python",
   "pygments_lexer": "ipython3",
   "version": "3.12.8"
  }
 },
 "nbformat": 4,
 "nbformat_minor": 5
}
