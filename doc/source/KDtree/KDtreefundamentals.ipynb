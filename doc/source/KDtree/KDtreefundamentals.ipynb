{
 "cells": [
  {
   "cell_type": "markdown",
   "id": "828d581c-2c0b-4950-a1dd-0cf96f55f648",
   "metadata": {},
   "source": [
    "# K-D tree fundamentals\n",
    "\n",
    "TODO: what is a K-D tree\n",
    "\n",
    "TODO: what libraries are used?"
   ]
  },
  {
   "cell_type": "code",
   "execution_count": null,
   "id": "53459aa8",
   "metadata": {},
   "outputs": [],
   "source": [
    "import numpy as np\n",
    "import teqpflsh\n",
    "import matplotlib.pyplot as plt\n",
    "\n",
    "def xy2poly(*, X, Y):\n",
    "    seq1 = teqpflsh.CoordinateSequence()\n",
    "    for i in range(len(X)):\n",
    "        seq1.add(X[i], Y[i])\n",
    "    seq1.closeRing(True)\n",
    "    return ptr.createPolygon(seq1)\n",
    "\n",
    "def boxpoly(*, top, bottom, left, right):\n",
    "    X = [left, right, right, left, left]\n",
    "    Y = [bottom, bottom, top, top, bottom]\n",
    "    return xy2poly(X=X, Y=Y)\n",
    "\n",
    "def coords2list(coords):\n",
    "    X, Y = [], []\n",
    "    for j in range(coords.getSize()):\n",
    "        X.append(coords.getX(j))\n",
    "        Y.append(coords.getY(j))\n",
    "    return np.array(X), np.array(Y)"
   ]
  },
  {
   "cell_type": "code",
   "execution_count": null,
   "id": "19ebf7aa-32b1-48a2-af0e-468ec2f0d83c",
   "metadata": {},
   "outputs": [],
   "source": [
    "ptr = teqpflsh.GeometryFactoryHolder()\n",
    "\n",
    "# Polygon for the shifted circle\n",
    "seq1 = teqpflsh.CoordinateSequence()\n",
    "t = np.linspace(0, 2*np.pi, 10000)\n",
    "X = 0.5 + 0.3*np.cos(t)\n",
    "Y = 0.3*np.sin(t)\n",
    "for i in range(len(t)):\n",
    "    seq1.add(X[i], Y[i])\n",
    "seq1.closeRing(True)\n",
    "poly1 = ptr.createPolygon(seq1)\n",
    "poly2 = boxpoly(left=0, right=1, bottom=0, top=1)\n",
    "\n",
    "# Polygon for the square [0,1]x[0,1] minus small circle\n",
    "poly = poly2.difference(poly1)\n",
    "X, Y = coords2list(poly.getCoordinates())\n",
    "\n",
    "def do_one(*, NKD, Nsample, plot=False, close=True):\n",
    "    def get_random(N):\n",
    "        \"\"\" Random points for the tree \"\"\"\n",
    "        XX, YY = [], []\n",
    "        for i in range(N*10):\n",
    "            x_, y_ = np.random.random(2)\n",
    "            pt = ptr.createPoint(float(x_), float(y_))\n",
    "            if poly.containsPoint(pt):\n",
    "                XX.append(x_)\n",
    "                YY.append(y_)\n",
    "                if len(XX) == N:\n",
    "                    break\n",
    "        return XX, YY\n",
    "    XX, YY = get_random(NKD)\n",
    "    \n",
    "    if plot:\n",
    "        plt.plot(X, Y, 'k')\n",
    "        plt.plot(XX, YY, '.', ms=5)\n",
    "\n",
    "    holder = teqpflsh.L2TreeHolder(np.array(XX), np.array(YY), 10)\n",
    "    tree = holder.tree\n",
    "\n",
    "    xsample, ysample = get_random(Nsample)\n",
    "    d2 = [tree.get_nearest_indexd2(x_, y_)[1] for x_, y_ in zip(xsample, ysample)]\n",
    "    \n",
    "    if plot:\n",
    "        plt.axis('off')\n",
    "        plt.axis('equal');\n",
    "    if close:\n",
    "        plt.close()\n",
    "    \n",
    "    return np.mean(np.array(d2)**0.5)"
   ]
  },
  {
   "cell_type": "code",
   "execution_count": null,
   "id": "f37f0986-2884-419d-bc03-944bc1eae624",
   "metadata": {},
   "outputs": [],
   "source": [
    "do_one(NKD=20, Nsample=100, plot=True, close=False)"
   ]
  },
  {
   "cell_type": "code",
   "execution_count": null,
   "id": "eafaec7f-87e7-4a6c-ac95-f908a4c42527",
   "metadata": {},
   "outputs": [],
   "source": [
    "Ntrees = np.geomspace(10, 10**4, dtype=int)\n",
    "d2s = [do_one(NKD=NKD_, Nsample=10**3) for NKD_ in Ntrees]\n",
    "plt.plot(Ntrees, d2s, 'o')\n",
    "\n",
    "pf = np.polyfit(np.log(Ntrees), np.log(d2s), 1)\n",
    "xx = np.geomspace(np.min(Ntrees), np.max(Ntrees), 1000)\n",
    "plt.plot(xx, np.exp(np.polyval(pf, np.log(xx))), dashes=[2,2], color='r')\n",
    "plt.text(100, 0.07, rf'$y=\\exp({pf[1]:0.3f})N^{{{pf[0]:0.3f}}}$', color='r')\n",
    "    \n",
    "plt.xscale('log')\n",
    "plt.yscale('log')\n",
    "plt.gca().set(xlabel=r'$N_{\\rm points}$', ylabel=r'$d_{NN}$');\n",
    "\n",
    "# del ptr"
   ]
  }
 ],
 "metadata": {
  "kernelspec": {
   "display_name": "Python 3 (ipykernel)",
   "language": "python",
   "name": "python3"
  },
  "language_info": {
   "codemirror_mode": {
    "name": "ipython",
    "version": 3
   },
   "file_extension": ".py",
   "mimetype": "text/x-python",
   "name": "python",
   "nbconvert_exporter": "python",
   "pygments_lexer": "ipython3",
   "version": "3.12.3"
  }
 },
 "nbformat": 4,
 "nbformat_minor": 5
}
