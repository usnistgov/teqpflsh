{
 "cells": [
  {
   "cell_type": "markdown",
   "id": "03349328-e225-45a6-ac49-d93d5cf02bd7",
   "metadata": {},
   "source": [
    "# Background\n",
    "\n",
    "The approach in this library has the goal of making iterative calculations with thermodynamic models much more reliable. In some cases, more than 1000x faster without sacrificing any accuracy. The greatest speedups are possible for two-phase inputs where at least one of the variables is temperature or pressure\n",
    "\n",
    "The core question to answer is: suppose I know two thermodynamic variables that are not temperature and density (say, pressure and enthalpy), how can I most efficiently determine the temperature and density, the independent variables of the equation of state?\n",
    "\n",
    "Two enabling technologies are:\n",
    "\n",
    "* **Superancillary equations**: A set of mathematical approximation functions, pre-calculated based on phase equilibrium calculations in extended precision arithmetic. These numerical functions are selected because they can represent the results of the phase equilibrium so accurately that the conventional phase equilibrium calculation can be replaced with a single functional evaluation, which is exceptionally fast (order of 10 ns instead of 10 us)\n",
    "* **K-D trees**: An efficient numerical structure that allows for nearest neighbor lookup\n",
    "\n",
    "For pure fluids, for a given set x, y of thermodynamic variables, the general approach for iterative calculations can be expressed as two simpler subproblems:\n",
    "\n",
    "A. *Is the input single phase or does it correspond to equilibrium of two phases?*\n",
    "\n",
    "B. *For a region of interest of the phase diagram, what is a good guess value for the temperature and density close to the final solution?*\n",
    "\n",
    "Subproblem A is handled with superancillary equations. Internal iteration is required for some input pairs, but the iterations are based on the use of superancillary functions, so the subiterations are reliable and fast. This represents a generational improvement in the reliability and speed of phase determination from thermodynamic models\n",
    "\n",
    "After subproblem A is complete, the phase of the inputs is known. If the inputs are two-phase, the overall problem is finished.\n",
    "\n",
    "Next comes subproblem B. When the thermodynamic model was loaded, \"lighthouse points\" were densely populated throughout the entire single-phase portion of the phase diagram. These points were then passed into a K-D tree nearest-neighbor lookup structure. The entire single-phase region is partitioned into non-overlapping and non-intersecting regions.\n",
    "\n",
    "In subproblem B, the regions are queried for their nearest point closest to the values satisfying the constraint equations. The lookup is very fast (order of ns), and once this guess value is known, a traditional Newton iteration is carried out to obtain the solution. If the routines are not reliable enough, the algorithm can be made arbitrarily reliable by increasing the number of points in the K-D tree.  Of course, that reliability comes at the cost of additional memory required for the storage."
   ]
  }
 ],
 "metadata": {
  "kernelspec": {
   "display_name": "Python 3 (ipykernel)",
   "language": "python",
   "name": "python3"
  },
  "language_info": {
   "codemirror_mode": {
    "name": "ipython",
    "version": 3
   },
   "file_extension": ".py",
   "mimetype": "text/x-python",
   "name": "python",
   "nbconvert_exporter": "python",
   "pygments_lexer": "ipython3",
   "version": "3.12.8"
  }
 },
 "nbformat": 4,
 "nbformat_minor": 5
}
