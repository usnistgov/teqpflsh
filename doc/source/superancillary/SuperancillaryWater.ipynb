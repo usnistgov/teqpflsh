{
 "cells": [
  {
   "cell_type": "markdown",
   "id": "cc613597-a097-4666-8828-58a2c4409a61",
   "metadata": {},
   "source": [
    "# Superancillary functions\n",
    "\n",
    "TODO: object hierarchy\n",
    "\n",
    "TODO: rough description of algorithms"
   ]
  },
  {
   "cell_type": "code",
   "execution_count": null,
   "id": "e65a1364",
   "metadata": {
    "execution": {
     "iopub.execute_input": "2024-12-20T19:12:59.376044Z",
     "iopub.status.busy": "2024-12-20T19:12:59.375748Z",
     "iopub.status.idle": "2024-12-20T19:12:59.626857Z",
     "shell.execute_reply": "2024-12-20T19:12:59.626589Z"
    }
   },
   "outputs": [],
   "source": [
    "import json\n",
    "import timeit\n",
    "import functools \n",
    "\n",
    "import numpy as np \n",
    "import matplotlib.pyplot as plt\n",
    "\n",
    "import ChebTools\n",
    "import teqpflsh\n",
    "import CoolProp.CoolProp as CP"
   ]
  },
  {
   "cell_type": "markdown",
   "id": "75b38e42-6e91-46ed-973d-d759b365806f",
   "metadata": {},
   "source": [
    "Build a superancillary function for water\n",
    "\n",
    "To begin, load from the provided files:\n",
    "\n",
    "* $\\rho'(T)$\n",
    "* $\\rho''(T)$\n",
    "* $p(T)$\n",
    "\n",
    "And then use the EOS (as implemented in CoolProp, but REFPROP would be fine too) to add\n",
    "\n",
    "* $h'(T)$, $h''(T)$\n",
    "* $s'(T)$, $s''(T)$\n",
    "* $u'(T)$, $u''(T)$"
   ]
  },
  {
   "cell_type": "code",
   "execution_count": null,
   "id": "9df81f71-d329-4b60-b4f0-f9323cad6f04",
   "metadata": {
    "execution": {
     "iopub.execute_input": "2024-12-20T19:12:59.628466Z",
     "iopub.status.busy": "2024-12-20T19:12:59.628287Z",
     "iopub.status.idle": "2024-12-20T19:12:59.636937Z",
     "shell.execute_reply": "2024-12-20T19:12:59.636691Z"
    }
   },
   "outputs": [],
   "source": [
    "j = json.load(open('superancillaryJSON/WATER_exps.json'))\n",
    "sa = teqpflsh.SuperAncillary(json.dumps(j))\n",
    "\n",
    "ca = sa.get_approx1d(k='D', q=0)\n",
    "print('Water has non-monotonic rho\\'(T). The monotonic intervals are:')\n",
    "for inter in ca.monotonic_intervals:\n",
    "    print(f'({inter.xmin}, {inter.xmax}) K')"
   ]
  },
  {
   "cell_type": "code",
   "execution_count": null,
   "id": "17aeac7b-62d5-4b67-b074-2a9919923beb",
   "metadata": {
    "execution": {
     "iopub.execute_input": "2024-12-20T19:12:59.638260Z",
     "iopub.status.busy": "2024-12-20T19:12:59.638171Z",
     "iopub.status.idle": "2024-12-20T19:12:59.657983Z",
     "shell.execute_reply": "2024-12-20T19:12:59.657790Z"
    }
   },
   "outputs": [],
   "source": [
    "AS = CP.AbstractState('HEOS', 'Water')\n",
    "def calc(T, rho, AS, key):\n",
    "    AS.specify_phase(CP.iphase_gas)\n",
    "    AS.update(CP.DmolarT_INPUTS, rho, T)\n",
    "    val = AS.keyed_output(key)\n",
    "    AS.unspecify_phase()\n",
    "    return val\n",
    "\n",
    "# Add another thermodynamic variable to the superancillary\n",
    "# Speed is order of ms per variable, likely MUCH faster in C++\n",
    "# caller is a callable function that takes temperature and density and returns a value of a given property type\n",
    "# here we can avoid flash calculations because we take T,rho value from the superancillary and \n",
    "# get values for the \"other\" variable\n",
    "sa.add_variable(k='H', caller=functools.partial(calc, AS=AS, key=CP.iHmolar))\n",
    "sa.add_variable(k='S', caller=functools.partial(calc, AS=AS, key=CP.iSmolar))\n",
    "sa.add_variable(k='U', caller=functools.partial(calc, AS=AS, key=CP.iUmolar))\n",
    "\n",
    "# Here is the call signature for the method\n",
    "print(sa.add_variable.__doc__)"
   ]
  },
  {
   "cell_type": "code",
   "execution_count": null,
   "id": "2b52ebc8",
   "metadata": {
    "execution": {
     "iopub.execute_input": "2024-12-20T19:12:59.659118Z",
     "iopub.status.busy": "2024-12-20T19:12:59.659019Z",
     "iopub.status.idle": "2024-12-20T19:13:00.010988Z",
     "shell.execute_reply": "2024-12-20T19:13:00.010758Z"
    }
   },
   "outputs": [],
   "source": [
    "# Solving for temperature given saturated liquid density, around the density maximum\n",
    "# as a challenging test for the rootfinding. The approach works well, even very close(!) \n",
    "# to the extremum\n",
    "\n",
    "ca = sa.get_approx1d(k='D', q=0)\n",
    "print('The monotonic intervals are:')\n",
    "for inter in ca.monotonic_intervals:\n",
    "    print(f'({inter.xmin}, {inter.xmax}) K')\n",
    "\n",
    "print('T at extrema in rho(T):', ca.x_at_extrema, 'K')\n",
    "print('and corresponding value', ca.eval(ca.x_at_extrema[0]), 'mol/m³')\n",
    "\n",
    "plt.figure()\n",
    "Trange = np.linspace(-10, 10) + ca.x_at_extrema[0]\n",
    "plt.plot(Trange, [ca.eval(T) for T in Trange])\n",
    "plt.gca().set(xlabel=r'$T$ / K', ylabel=r'$\\rho$ / mol/m$^3$')\n",
    "\n",
    "# Starting at a density below the extremum, test getting\n",
    "# very close to the extremum and solving for temperature\n",
    "\n",
    "plt.figure()\n",
    "y_extremum = ca.eval(ca.x_at_extrema[0])\n",
    "delta = y_extremum - 0.9999*y_extremum\n",
    "\n",
    "while delta > 1e-13:\n",
    "    # First output argument is the solution, second is the number of iterations required\n",
    "    Tsoln = ca.get_x_for_y(y=y_extremum-delta)\n",
    "    \n",
    "    if len(Tsoln) != 2:\n",
    "        break\n",
    "    if Tsoln[0][0] > Tsoln[1][0]:\n",
    "        break\n",
    "    \n",
    "    delta /= 1.1\n",
    "    plt.plot(delta, Tsoln[0][0]-ca.x_at_extrema[0], 'ro')\n",
    "    plt.plot(delta, Tsoln[1][0]-ca.x_at_extrema[0], 'bx')\n",
    "    \n",
    "plt.xscale('log')\n",
    "plt.yscale('symlog')\n",
    "plt.gca().set(xlabel=r'$\\rho-\\rho_{\\rm extremum}$ / mol/m$^3$', ylabel=r'$T-T_{\\rm extremum}$ / K')\n",
    "plt.title(r'$T(\\rho)$ which should have two solutions for all $\\rho < \\rho_{\\rm extremum}$')\n",
    "\n",
    "plt.show()"
   ]
  },
  {
   "cell_type": "code",
   "execution_count": null,
   "id": "6bc4219d",
   "metadata": {
    "execution": {
     "iopub.execute_input": "2024-12-20T19:13:00.012229Z",
     "iopub.status.busy": "2024-12-20T19:13:00.012135Z",
     "iopub.status.idle": "2024-12-20T19:13:01.185346Z",
     "shell.execute_reply": "2024-12-20T19:13:01.185124Z"
    }
   },
   "outputs": [],
   "source": [
    "# Time forward evalution of a chebyshev expansion\n",
    "T = np.linspace(273.16, 290, 1000000)\n",
    "ybuf = np.zeros_like(T)\n",
    "tic = timeit.default_timer()\n",
    "ca.eval_many(T, ybuf)\n",
    "toc = timeit.default_timer()\n",
    "print('rho(T) takes', (toc-tic)/len(T)*1e6, 'μs/call')\n",
    "\n",
    "# Time the rootfinding in the superancillary\n",
    "tic = timeit.default_timer()\n",
    "ybuf = np.linspace(55400, 55503, 1000000)\n",
    "xbuf = np.zeros_like(ybuf)\n",
    "ca.count_x_for_y_many(ybuf, 64, 100, 1e-10, xbuf)\n",
    "toc = timeit.default_timer()\n",
    "print('T(rho) takes', (toc-tic)/len(xbuf)*1e6, 'μs/call')\n",
    "print('so the inversion is much slower, and here there are two candidate regions, so it is again two times worse than normal fluids, which would be more like:')\n",
    "\n",
    "tic = timeit.default_timer()\n",
    "ybuf = np.linspace(20400, 20503, 1000000)\n",
    "xbuf = np.zeros_like(ybuf)\n",
    "ca.count_x_for_y_many(ybuf, 64, 100, 1e-10, xbuf)\n",
    "toc = timeit.default_timer()\n",
    "print('T(rho) takes', (toc-tic)/len(xbuf)*1e6, 'μs/call when there is only one solution')"
   ]
  },
  {
   "cell_type": "markdown",
   "id": "938b8f8d-2d82-4395-aadb-efb4f6888c7e",
   "metadata": {},
   "source": [
    "Rootfinding is based on the TOMS748 method, which is an advanced version of the Brent method that is bounded and uses the optimal combination of secant, quadratic, and cubic interpolation mixed with bisection."
   ]
  },
  {
   "cell_type": "code",
   "execution_count": null,
   "id": "1338ce45-8aa4-4da9-8c3b-ae9a684a8382",
   "metadata": {
    "execution": {
     "iopub.execute_input": "2024-12-20T19:13:01.186684Z",
     "iopub.status.busy": "2024-12-20T19:13:01.186573Z",
     "iopub.status.idle": "2024-12-20T19:13:01.188402Z",
     "shell.execute_reply": "2024-12-20T19:13:01.188191Z"
    }
   },
   "outputs": [],
   "source": [
    "T_K, steps = ca.get_x_for_y(y=20250)[0]\n",
    "print(f'{steps} iterations were required')"
   ]
  },
  {
   "cell_type": "markdown",
   "id": "cc4bcdc8-fb44-4738-99ec-b3b62ca2e684",
   "metadata": {},
   "source": [
    "which is about that much higher than the forward evaluation of a superancillary itself"
   ]
  },
  {
   "cell_type": "code",
   "execution_count": null,
   "id": "0daccc7c",
   "metadata": {
    "execution": {
     "iopub.execute_input": "2024-12-20T19:13:01.189550Z",
     "iopub.status.busy": "2024-12-20T19:13:01.189456Z",
     "iopub.status.idle": "2024-12-20T19:13:01.311706Z",
     "shell.execute_reply": "2024-12-20T19:13:01.311464Z"
    }
   },
   "outputs": [],
   "source": [
    "ca = sa.get_approx1d(k='D', q=0)\n",
    "rhoc = ca.monotonic_intervals[1].ymin\n",
    "\n",
    "# Pick a density where there is only one possible solution for temperature\n",
    "for D in [22082.571366851185]:\n",
    "\n",
    "    # Get the saturation temperature, if possible\n",
    "    Tlims = [_ for _ in ca.get_x_for_y(y=D)]\n",
    "    if len(Tlims) == 1:\n",
    "        Trange = [ca.expansions[0].xmin, Tlims[0][0]]\n",
    "    else:\n",
    "        Trange = [Tlims[0][0], Tlims[1][0]]\n",
    "        \n",
    "    Ts = np.linspace(*Trange, 100000)\n",
    "    # Non-iteratively solve for q for value of density\n",
    "    q = np.array([sa.get_vaporquality(T=T_, propval=D, k='D') for T_ in Ts])\n",
    "\n",
    "    fig, (ax1, ax2) = plt.subplots(2, 1, sharex=True)\n",
    "    # And then plot another property\n",
    "    y = np.zeros_like(q)\n",
    "    tic = timeit.default_timer()\n",
    "    sa.get_yval_many(q=q, T=Ts, k='H', y=y)\n",
    "    toc = timeit.default_timer()\n",
    "    print((toc-tic)/len(T)*1e6, 'μs/call')\n",
    "    ax1.plot(Ts, q,)\n",
    "    ax2.plot(Ts, y, label=D)\n",
    "    ax1.set(ylabel='$q$ (vapor quality)')\n",
    "    ax2.set(xlabel='$T$ / K', ylabel='$h$ / J/mol')"
   ]
  },
  {
   "cell_type": "markdown",
   "id": "0567c710",
   "metadata": {},
   "source": [
    "Plot lines of constant quality in the two-phase region according to the superancillary functions"
   ]
  },
  {
   "cell_type": "code",
   "execution_count": null,
   "id": "88ee67da",
   "metadata": {
    "execution": {
     "iopub.execute_input": "2024-12-20T19:13:01.313004Z",
     "iopub.status.busy": "2024-12-20T19:13:01.312906Z",
     "iopub.status.idle": "2024-12-20T19:13:01.465745Z",
     "shell.execute_reply": "2024-12-20T19:13:01.465489Z"
    }
   },
   "outputs": [],
   "source": [
    "caV = sa.get_approx1d(k='D', q=1)\n",
    "# for interval in caV.monotonic_intervals:\n",
    "#     print(interval)\n",
    "#     print({k: getattr(interval,k) for k in dir(interval) if not k.startswith('__')})\n",
    "#     for m in interval.expansioninfo:\n",
    "#         print({k: getattr(m,k) for k in dir(m) if not k.startswith('__')})\n",
    "#         print(m.xmin, m.xmax)\n",
    "print(caV.eval(273.16), caV.eval(647.096), caV.get_x_for_y(y=200))\n",
    "\n",
    "# print([0].ymin, caV.monotonic_intervals[0].ymax)\n",
    "# print(caV.get_x_for_y(y=200))\n",
    "\n",
    "ca = sa.get_approx1d(k='D', q=0)\n",
    "y = ca.eval(ca.x_at_extrema[0])*0.9999\n",
    "Tlims = [_[0] for _ in ca.get_x_for_y(y=y)]\n",
    "\n",
    "Ts = np.linspace(ca.expansions[0].xmin+1e-6, ca.expansions[-1].xmax-1e-6, 100)\n",
    "# Ts = np.linspace(273.1600001, 280, 10000)\n",
    "\n",
    "for Q in np.arange(1e-6, 1.0000, 0.1, dtype=float).tolist() + np.logspace(-8, -1, 30).tolist():\n",
    "    Qs = Q*np.ones_like(Ts)\n",
    "    \n",
    "    rho = np.zeros_like(Ts)\n",
    "    sa.get_yval_many(T=Ts, q=Qs, k='D', y=rho)\n",
    "    \n",
    "    other = np.zeros_like(Ts)\n",
    "    kother = 'S'\n",
    "    sa.get_yval_many(T=Ts, q=Qs, k=kother, y=other)\n",
    "    plt.plot(1/rho, other)\n",
    "    \n",
    "    Tbuf = np.zeros_like(Ts)\n",
    "    qbuf = np.zeros_like(Ts)\n",
    "    countbuf = np.zeros_like(Ts)\n",
    "    tic = timeit.default_timer()\n",
    "    sa.solve_for_Tq_DX_many(rho, other, kother, 64, 100, 1e-10, Tbuf, qbuf, countbuf)\n",
    "    toc = timeit.default_timer()\n",
    "    print((toc-tic)/len(Tbuf)*1e6, 'μs/call from', np.mean(countbuf), 'steps on average')\n",
    "    \n",
    "    for T_goal_, rho_, other_ in zip(Ts, rho, other):\n",
    "        soln = sa.solve_for_Tq_DX(rho_, other_, kother, 64, 100, 1e-10)\n",
    "        try:\n",
    "            T_ = soln.T; q_ = soln.q; count_ = soln.counter\n",
    "        except BaseException as be:\n",
    "            print(rho_, other_)\n",
    "            print(be, T_goal_, Q)\n",
    "            plt.plot(1/rho_, other_, 'o')\n",
    "    \n",
    "# plt.yscale('log')\n",
    "plt.xscale('log')"
   ]
  }
 ],
 "metadata": {
  "kernelspec": {
   "display_name": "Python 3 (ipykernel)",
   "language": "python",
   "name": "python3"
  },
  "language_info": {
   "codemirror_mode": {
    "name": "ipython",
    "version": 3
   },
   "file_extension": ".py",
   "mimetype": "text/x-python",
   "name": "python",
   "nbconvert_exporter": "python",
   "pygments_lexer": "ipython3",
   "version": "3.12.8"
  }
 },
 "nbformat": 4,
 "nbformat_minor": 5
}
