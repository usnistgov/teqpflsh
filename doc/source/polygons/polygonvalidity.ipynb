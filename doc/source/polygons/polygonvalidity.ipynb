{
 "cells": [
  {
   "cell_type": "markdown",
   "id": "98cee297-1d0c-4238-83cb-2eca86431fde",
   "metadata": {},
   "source": [
    "# Polygon validation\n",
    "\n",
    "Making the polygons be non-self-intersecting is critical. There are routines in GEOS (and exposed in teqpflsh) to break up self-intersecting polygons into non-self-intersecting polygons"
   ]
  },
  {
   "cell_type": "code",
   "execution_count": null,
   "id": "6b45a70c",
   "metadata": {},
   "outputs": [],
   "source": [
    "import numpy as np\n",
    "import teqpflsh\n",
    "import matplotlib.pyplot as plt"
   ]
  },
  {
   "cell_type": "code",
   "execution_count": null,
   "id": "b6182393",
   "metadata": {},
   "outputs": [],
   "source": [
    "ptr = teqpflsh.GeometryFactoryHolder()\n",
    "\n",
    "# A bowtie curve that is periodic and self-intersecting\n",
    "t = np.linspace(0+0.1, 2*np.pi+0.1, 10000)\n",
    "X,Y = np.cos(t), np.cos(t)*np.sin(t)\n",
    "poly1 = ptr.makeclosedpolygon(X, Y)\n",
    "plt.plot(X, Y)\n",
    "plt.plot(X[0], Y[0], 'o')\n",
    "poly1.isValid # False since self-intersecting"
   ]
  },
  {
   "cell_type": "markdown",
   "id": "a8e9c1d5-3aa6-44b3-a766-9c413395e1c5",
   "metadata": {},
   "source": [
    "Now we need to break up the polygon into portions that are simple (non self-intersecting) with the MakeValid class of geos : https://libgeos.org/doxygen/classgeos_1_1operation_1_1valid_1_1MakeValid.html"
   ]
  },
  {
   "cell_type": "code",
   "execution_count": null,
   "id": "038ff472-6551-47c6-bb33-151f1ff4e483",
   "metadata": {},
   "outputs": [],
   "source": [
    "simpl = poly1.make_valid()\n",
    "print(f'N: {simpl.getNumGeometries()}')\n",
    "print(f'simple: {simpl.isSimple}')\n",
    "print(f'valid: {simpl.isValid}')\n",
    "for i in range(simpl.getNumGeometries()):\n",
    "    pI = simpl.getGeometryN(i)\n",
    "    plt.plot(*pI.getXY())\n",
    "    print(f'N: {pI.getNumGeometries()}')\n",
    "    print(f'simple: {pI.isSimple}')\n",
    "    print(f'valid: {pI.isValid}')"
   ]
  }
 ],
 "metadata": {
  "kernelspec": {
   "display_name": "Python 3 (ipykernel)",
   "language": "python",
   "name": "python3"
  },
  "language_info": {
   "codemirror_mode": {
    "name": "ipython",
    "version": 3
   },
   "file_extension": ".py",
   "mimetype": "text/x-python",
   "name": "python",
   "nbconvert_exporter": "python",
   "pygments_lexer": "ipython3",
   "version": "3.12.8"
  }
 },
 "nbformat": 4,
 "nbformat_minor": 5
}
